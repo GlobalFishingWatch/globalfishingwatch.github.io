{
 "cells": [
  {
   "cell_type": "code",
   "execution_count": 2,
   "metadata": {},
   "outputs": [],
   "source": [
    "import pandas as pd"
   ]
  },
  {
   "cell_type": "code",
   "execution_count": 3,
   "metadata": {},
   "outputs": [],
   "source": [
    "q = '''SELECT\n",
    "  date(_partitiontime) AS date,\n",
    "  flag,\n",
    "  SUM(fishing_hours) fishing_hours\n",
    "FROM\n",
    "  [world-fishing-827:gfw_draft_data.fishing_effort]\n",
    "GROUP BY\n",
    "  date,\n",
    "  flag\n",
    "ORDER BY\n",
    "  flag,\n",
    "  date'''\n",
    "df = pd.io.gbq.read_gbq(q, project_id='world-fishing-827', verbose=False)"
   ]
  },
  {
   "cell_type": "code",
   "execution_count": 4,
   "metadata": {},
   "outputs": [
    {
     "data": {
      "text/html": [
       "<div>\n",
       "<table border=\"1\" class=\"dataframe\">\n",
       "  <thead>\n",
       "    <tr style=\"text-align: right;\">\n",
       "      <th></th>\n",
       "      <th>date</th>\n",
       "      <th>flag</th>\n",
       "      <th>fishing_hours</th>\n",
       "    </tr>\n",
       "  </thead>\n",
       "  <tbody>\n",
       "    <tr>\n",
       "      <th>0</th>\n",
       "      <td>2015-08-17</td>\n",
       "      <td>MNG</td>\n",
       "      <td>24.653194</td>\n",
       "    </tr>\n",
       "    <tr>\n",
       "      <th>1</th>\n",
       "      <td>2015-08-18</td>\n",
       "      <td>MNG</td>\n",
       "      <td>24.708889</td>\n",
       "    </tr>\n",
       "    <tr>\n",
       "      <th>2</th>\n",
       "      <td>2015-08-19</td>\n",
       "      <td>MNG</td>\n",
       "      <td>23.253750</td>\n",
       "    </tr>\n",
       "    <tr>\n",
       "      <th>3</th>\n",
       "      <td>2015-08-20</td>\n",
       "      <td>MNG</td>\n",
       "      <td>24.701944</td>\n",
       "    </tr>\n",
       "    <tr>\n",
       "      <th>4</th>\n",
       "      <td>2015-08-21</td>\n",
       "      <td>MNG</td>\n",
       "      <td>22.681944</td>\n",
       "    </tr>\n",
       "  </tbody>\n",
       "</table>\n",
       "</div>"
      ],
      "text/plain": [
       "         date flag  fishing_hours\n",
       "0  2015-08-17  MNG      24.653194\n",
       "1  2015-08-18  MNG      24.708889\n",
       "2  2015-08-19  MNG      23.253750\n",
       "3  2015-08-20  MNG      24.701944\n",
       "4  2015-08-21  MNG      22.681944"
      ]
     },
     "execution_count": 4,
     "metadata": {},
     "output_type": "execute_result"
    }
   ],
   "source": [
    "df.head()"
   ]
  },
  {
   "cell_type": "code",
   "execution_count": 5,
   "metadata": {},
   "outputs": [
    {
     "data": {
      "text/plain": [
       "164185"
      ]
     },
     "execution_count": 5,
     "metadata": {},
     "output_type": "execute_result"
    }
   ],
   "source": [
    "len(df)"
   ]
  },
  {
   "cell_type": "code",
   "execution_count": 6,
   "metadata": {},
   "outputs": [],
   "source": [
    "df = df.sort_values(by=['flag', 'date']).reset_index(drop=True)"
   ]
  },
  {
   "cell_type": "code",
   "execution_count": null,
   "metadata": {
    "scrolled": false
   },
   "outputs": [
    {
     "name": "stdout",
     "output_type": "stream",
     "text": [
      "AGO\n",
      "ALB\n",
      "ARG\n",
      "ATF\n",
      "AUS\n",
      "BEL\n",
      "BES\n",
      "BGR\n",
      "BHR\n",
      "BLZ\n",
      "BRA\n",
      "CAN\n",
      "CHE\n",
      "CHL\n",
      "CHN\n",
      "CIV\n",
      "CMR\n",
      "COK\n",
      "COL\n",
      "COM\n",
      "CPV\n",
      "CRI\n",
      "CUB\n",
      "CUW\n",
      "CYM\n",
      "CYP\n",
      "DEU\n",
      "DMA\n",
      "DNK\n",
      "DZA\n",
      "ECU\n",
      "EGY\n",
      "ESP\n",
      "EST\n",
      "FIN\n",
      "FJI\n",
      "FLK\n",
      "FRA\n",
      "FRO\n",
      "FSM\n",
      "GBR\n",
      "GHA\n",
      "GNQ\n",
      "GRC\n",
      "GRL\n",
      "GTM\n",
      "GUF\n",
      "HKG\n",
      "HND\n",
      "HRV\n",
      "HTI\n",
      "IDN\n",
      "IND\n",
      "IRL\n",
      "IRN\n",
      "ISL\n",
      "ISR\n",
      "ITA\n",
      "JPN\n",
      "KHM\n",
      "KIR\n",
      "KNA\n",
      "KOR\n",
      "LBR\n",
      "LBY\n",
      "LKA\n",
      "LTU\n",
      "LVA\n",
      "MAC\n",
      "MAR\n",
      "MDV\n",
      "MEX\n",
      "MHL\n",
      "MLT\n",
      "MNE\n",
      "MNG\n",
      "MOZ\n",
      "MRT\n",
      "MTQ\n",
      "MUS\n",
      "MYS\n",
      "NAM\n",
      "NCL\n",
      "NIC\n",
      "NLD\n",
      "NOR\n",
      "NZL\n",
      "OMN\n",
      "PAN\n",
      "PER\n",
      "PHL\n",
      "PNG\n",
      "POL\n",
      "PRT\n",
      "PYF\n",
      "QAT\n",
      "REU\n",
      "ROU\n",
      "RUS\n",
      "SAU\n",
      "SEN\n",
      "SGP\n"
     ]
    }
   ],
   "source": [
    "flag = df.flag[0]\n",
    "iso3s = []\n",
    "header = \"date,fishing\\n\"\n",
    "rows = []\n",
    "for index, row in df.iterrows():\n",
    "    fl = row.flag\n",
    "    if fl!=flag:\n",
    "        with open(\"countries/{}.csv\".format(flag), 'w') as f:\n",
    "            f.write(header)\n",
    "            f.write(\"\\n\".join(rows))\n",
    "        rows = []\n",
    "        print flag\n",
    "        iso3s.append(flag)\n",
    "        flag = fl\n",
    "    \n",
    "    rows.append(\"{},{}\".format(row.date, row.fishing_hours))\n",
    "    \n",
    "with open(\"countries/{}.csv\".format(flag), 'w') as f:\n",
    "    f.write(header)\n",
    "    f.write(\"\\n\".join(rows))\n",
    "rows = []\n",
    "print flag\n",
    "iso3s.append(flag)\n"
   ]
  },
  {
   "cell_type": "code",
   "execution_count": 18,
   "metadata": {},
   "outputs": [],
   "source": [
    "q = '''SELECT\n",
    "  _partitiontime AS date,\n",
    "  flag,\n",
    "  SUM(fishing_hours) fishing_hours\n",
    "FROM\n",
    "  [world-fishing-827:gfw_draft_data.fishing_effort]\n",
    "  where _partitiontime >= timestamp(\"2016-01-01\")\n",
    "GROUP BY\n",
    "  date,\n",
    "  flag\n",
    "ORDER BY\n",
    "  flag,\n",
    "  date'''\n",
    "df = pd.io.gbq.read_gbq(q, project_id='world-fishing-827', verbose=False)"
   ]
  },
  {
   "cell_type": "code",
   "execution_count": 19,
   "metadata": {},
   "outputs": [],
   "source": [
    "df = df.sort_values(by=['flag', 'date']).reset_index(drop=True)"
   ]
  },
  {
   "cell_type": "code",
   "execution_count": null,
   "metadata": {},
   "outputs": [],
   "source": [
    "flag = df.flag[0]\n",
    "iso3s = []\n",
    "header = \"date,fishing\\n\"\n",
    "rows = []\n",
    "for index, row in df.iterrows():\n",
    "    fl = row.flag\n",
    "    if fl!=flag:\n",
    "        with open(\"countries2016/{}.csv\".format(flag), 'w') as f:\n",
    "            f.write(header)\n",
    "            f.write(\"\\n\".join(rows))\n",
    "        rows = []\n",
    "        print flag\n",
    "        iso3s.append(flag)\n",
    "        flag = fl\n",
    "    \n",
    "    rows.append(\"{},{}\".format(row.date, row.fishing_hours))\n",
    "    \n",
    "with open(\"countries/{}.csv\".format(flag), 'w') as f:\n",
    "    f.write(header)\n",
    "    f.write(\"\\n\".join(rows))\n",
    "rows = []\n",
    "print flag\n",
    "iso3s.append(flag)"
   ]
  }
 ],
 "metadata": {
  "kernelspec": {
   "display_name": "Python 2",
   "language": "python",
   "name": "python2"
  },
  "language_info": {
   "codemirror_mode": {
    "name": "ipython",
    "version": 2
   },
   "file_extension": ".py",
   "mimetype": "text/x-python",
   "name": "python",
   "nbconvert_exporter": "python",
   "pygments_lexer": "ipython2",
   "version": "2.7.14"
  }
 },
 "nbformat": 4,
 "nbformat_minor": 2
}
