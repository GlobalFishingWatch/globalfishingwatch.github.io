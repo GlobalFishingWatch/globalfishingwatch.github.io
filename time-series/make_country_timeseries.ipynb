{
 "cells": [
  {
   "cell_type": "code",
   "execution_count": 2,
   "metadata": {},
   "outputs": [],
   "source": [
    "import pandas as pd"
   ]
  },
  {
   "cell_type": "markdown",
   "metadata": {},
   "source": [
    "# Version 1\n",
    "Quick test -- output each country as its own files"
   ]
  },
  {
   "cell_type": "code",
   "execution_count": 3,
   "metadata": {},
   "outputs": [],
   "source": [
    "q = '''SELECT\n",
    "  date(_partitiontime) AS date,\n",
    "  flag,\n",
    "  integer(SUM(fishing_hours)) fishing_hours\n",
    "FROM\n",
    "  [world-fishing-827:gfw_draft_data.fishing_effort]\n",
    "GROUP BY\n",
    "  date,\n",
    "  flag\n",
    "ORDER BY\n",
    "  flag,\n",
    "  date'''\n",
    "df = pd.io.gbq.read_gbq(q, project_id='world-fishing-827', verbose=False)"
   ]
  },
  {
   "cell_type": "code",
   "execution_count": 4,
   "metadata": {},
   "outputs": [
    {
     "data": {
      "text/html": [
       "<div>\n",
       "<table border=\"1\" class=\"dataframe\">\n",
       "  <thead>\n",
       "    <tr style=\"text-align: right;\">\n",
       "      <th></th>\n",
       "      <th>date</th>\n",
       "      <th>flag</th>\n",
       "      <th>fishing_hours</th>\n",
       "    </tr>\n",
       "  </thead>\n",
       "  <tbody>\n",
       "    <tr>\n",
       "      <th>0</th>\n",
       "      <td>2015-08-17</td>\n",
       "      <td>MNG</td>\n",
       "      <td>24</td>\n",
       "    </tr>\n",
       "    <tr>\n",
       "      <th>1</th>\n",
       "      <td>2015-08-18</td>\n",
       "      <td>MNG</td>\n",
       "      <td>24</td>\n",
       "    </tr>\n",
       "    <tr>\n",
       "      <th>2</th>\n",
       "      <td>2015-08-19</td>\n",
       "      <td>MNG</td>\n",
       "      <td>23</td>\n",
       "    </tr>\n",
       "    <tr>\n",
       "      <th>3</th>\n",
       "      <td>2015-08-20</td>\n",
       "      <td>MNG</td>\n",
       "      <td>24</td>\n",
       "    </tr>\n",
       "    <tr>\n",
       "      <th>4</th>\n",
       "      <td>2015-08-21</td>\n",
       "      <td>MNG</td>\n",
       "      <td>22</td>\n",
       "    </tr>\n",
       "  </tbody>\n",
       "</table>\n",
       "</div>"
      ],
      "text/plain": [
       "         date flag  fishing_hours\n",
       "0  2015-08-17  MNG             24\n",
       "1  2015-08-18  MNG             24\n",
       "2  2015-08-19  MNG             23\n",
       "3  2015-08-20  MNG             24\n",
       "4  2015-08-21  MNG             22"
      ]
     },
     "execution_count": 4,
     "metadata": {},
     "output_type": "execute_result"
    }
   ],
   "source": [
    "df.head()"
   ]
  },
  {
   "cell_type": "code",
   "execution_count": 5,
   "metadata": {},
   "outputs": [
    {
     "data": {
      "text/plain": [
       "164185"
      ]
     },
     "execution_count": 5,
     "metadata": {},
     "output_type": "execute_result"
    }
   ],
   "source": [
    "len(df)"
   ]
  },
  {
   "cell_type": "code",
   "execution_count": 6,
   "metadata": {},
   "outputs": [],
   "source": [
    "df = df.sort_values(by=['flag', 'date']).reset_index(drop=True)\n",
    "df = df.fillna(0)"
   ]
  },
  {
   "cell_type": "code",
   "execution_count": 7,
   "metadata": {
    "scrolled": false
   },
   "outputs": [],
   "source": [
    "flag = df.flag[0]\n",
    "iso3s = []\n",
    "header = \"date,fishing\\n\"\n",
    "rows = []\n",
    "for index, row in df.iterrows():\n",
    "    fl = row.flag\n",
    "    if fl!=flag:\n",
    "        with open(\"countries/{}.csv\".format(flag), 'w') as f:\n",
    "            f.write(header)\n",
    "            f.write(\"\\n\".join(rows))\n",
    "        rows = []\n",
    "#         print flag\n",
    "        iso3s.append(flag)\n",
    "        flag = fl\n",
    "    \n",
    "    rows.append(\"{},{}\".format(row.date, row.fishing_hours))\n",
    "    \n",
    "with open(\"countries/{}.csv\".format(flag), 'w') as f:\n",
    "    f.write(header)\n",
    "    f.write(\"\\n\".join(rows))\n",
    "rows = []\n",
    "# print flag\n",
    "iso3s.append(flag)\n"
   ]
  },
  {
   "cell_type": "code",
   "execution_count": 7,
   "metadata": {},
   "outputs": [],
   "source": [
    "q = '''SELECT\n",
    "  date(_partitiontime) AS date,\n",
    "  flag,\n",
    "  integer(SUM(fishing_hours)) fishing_hours\n",
    "FROM\n",
    "  [world-fishing-827:gfw_draft_data.fishing_effort]\n",
    "  where _partitiontime >= timestamp(\"2016-01-01\")\n",
    "GROUP BY\n",
    "  date,\n",
    "  flag\n",
    "ORDER BY\n",
    "  flag,\n",
    "  date'''\n",
    "df = pd.io.gbq.read_gbq(q, project_id='world-fishing-827', verbose=False)"
   ]
  },
  {
   "cell_type": "code",
   "execution_count": 8,
   "metadata": {},
   "outputs": [],
   "source": [
    "df = df.sort_values(by=['flag', 'date']).reset_index(drop=True).fillna(0)"
   ]
  },
  {
   "cell_type": "code",
   "execution_count": 10,
   "metadata": {},
   "outputs": [],
   "source": [
    "flag = df.flag[0]\n",
    "iso3s = []\n",
    "header = \"date,fishing\\n\"\n",
    "rows = []\n",
    "for index, row in df.iterrows():\n",
    "    fl = row.flag\n",
    "    if fl!=flag:\n",
    "        with open(\"countries2016/{}.csv\".format(flag), 'w') as f:\n",
    "            f.write(header)\n",
    "            f.write(\"\\n\".join(rows))\n",
    "        rows = []\n",
    "#         print flag\n",
    "        iso3s.append(flag)\n",
    "        flag = fl\n",
    "    \n",
    "    rows.append(\"{},{}\".format(row.date, row.fishing_hours))\n",
    "    \n",
    "with open(\"countries/{}.csv\".format(flag), 'w') as f:\n",
    "    f.write(header)\n",
    "    f.write(\"\\n\".join(rows))\n",
    "rows = []\n",
    "# print flag\n",
    "iso3s.append(flag)"
   ]
  },
  {
   "cell_type": "code",
   "execution_count": 12,
   "metadata": {},
   "outputs": [],
   "source": [
    "q = '''SELECT\n",
    "  date(_partitiontime) AS date,\n",
    "  integer(SUM(fishing_hours)) fishing_hours\n",
    "FROM\n",
    "  [world-fishing-827:gfw_draft_data.fishing_effort]\n",
    "GROUP BY\n",
    "  date\n",
    "ORDER BY\n",
    "  date'''\n",
    "df = pd.io.gbq.read_gbq(q, project_id='world-fishing-827', verbose=False)"
   ]
  },
  {
   "cell_type": "code",
   "execution_count": 13,
   "metadata": {},
   "outputs": [],
   "source": [
    "df = df.sort_values(by='date').reset_index(drop=True).fillna(0)"
   ]
  },
  {
   "cell_type": "code",
   "execution_count": 14,
   "metadata": {},
   "outputs": [],
   "source": [
    "with open(\"countries/WLD.csv\".format(flag), 'w') as f:\n",
    "    f.write(header)\n",
    "    rows = []\n",
    "    for index, row in df.iterrows():\n",
    "        rows.append(\"{},{}\".format(row.date,row.fishing_hours))\n",
    "    f.write(\"\\n\".join(rows))"
   ]
  },
  {
   "cell_type": "code",
   "execution_count": null,
   "metadata": {},
   "outputs": [],
   "source": [
    "q = '''SELECT\n",
    "  date(_partitiontime) AS date,\n",
    "  integer(SUM(fishing_hours)) fishing_hours\n",
    "FROM\n",
    "  [world-fishing-827:gfw_draft_data.fishing_effort]\n",
    "GROUP BY\n",
    "  date\n",
    "ORDER BY\n",
    "  date'''\n",
    "df = pd.io.gbq.read_gbq(q, project_id='world-fishing-827', verbose=False)"
   ]
  },
  {
   "cell_type": "code",
   "execution_count": null,
   "metadata": {},
   "outputs": [],
   "source": []
  },
  {
   "cell_type": "code",
   "execution_count": null,
   "metadata": {},
   "outputs": [],
   "source": []
  },
  {
   "cell_type": "markdown",
   "metadata": {},
   "source": [
    "# Version 2 \n",
    " - put all the values in the same file\n",
    " - use local time for the days\n",
    " - include fishing vessel days"
   ]
  },
  {
   "cell_type": "code",
   "execution_count": 7,
   "metadata": {},
   "outputs": [],
   "source": [
    "q = '''SELECT\n",
    "  date,\n",
    "  flag,\n",
    "  COUNT(*) vessels_fishing,\n",
    "  SUM(fishing_hours) fishing_hours\n",
    "FROM (\n",
    "  SELECT\n",
    "    mmsi,\n",
    "    DATE(SEC_TO_TIMESTAMP(TIMESTAMP_TO_SEC(timestamp) + lon/180*12*3600)) date,\n",
    "    SUM(hours) fishing_hours,\n",
    "  FROM\n",
    "    [gfw_research.nn2]\n",
    "  WHERE\n",
    "    nnet_score2 = 1\n",
    "  GROUP BY\n",
    "    mmsi,\n",
    "    date) a\n",
    "LEFT JOIN\n",
    "  [gfw_draft_data.fishing_vessels] b\n",
    "ON\n",
    "  a.mmsi = b.mmsi\n",
    "  where flag not in (\"CUB\",\"MNG\")\n",
    "  and flag is not null\n",
    "GROUP BY\n",
    "  flag,\n",
    "  date\n",
    "ORDER BY\n",
    "  flag,'''\n",
    "df = pd.io.gbq.read_gbq(q, project_id='world-fishing-827', verbose=False).set_index(\"date\")"
   ]
  },
  {
   "cell_type": "code",
   "execution_count": 5,
   "metadata": {},
   "outputs": [
    {
     "data": {
      "text/plain": [
       "137127"
      ]
     },
     "execution_count": 5,
     "metadata": {},
     "output_type": "execute_result"
    }
   ],
   "source": [
    "len(df)"
   ]
  },
  {
   "cell_type": "code",
   "execution_count": 8,
   "metadata": {},
   "outputs": [],
   "source": [
    "df.to_csv(\"allcountries2012-2016.csv\")"
   ]
  },
  {
   "cell_type": "code",
   "execution_count": null,
   "metadata": {},
   "outputs": [],
   "source": []
  }
 ],
 "metadata": {
  "kernelspec": {
   "display_name": "Python 2",
   "language": "python",
   "name": "python2"
  },
  "language_info": {
   "codemirror_mode": {
    "name": "ipython",
    "version": 2
   },
   "file_extension": ".py",
   "mimetype": "text/x-python",
   "name": "python",
   "nbconvert_exporter": "python",
   "pygments_lexer": "ipython2",
   "version": "2.7.14"
  }
 },
 "nbformat": 4,
 "nbformat_minor": 2
}
