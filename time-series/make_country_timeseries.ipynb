{
 "cells": [
  {
   "cell_type": "code",
   "execution_count": 2,
   "metadata": {},
   "outputs": [],
   "source": [
    "import pandas as pd"
   ]
  },
  {
   "cell_type": "markdown",
   "metadata": {},
   "source": [
    "# Version 1\n",
    "Quick test -- output each country as its own files"
   ]
  },
  {
   "cell_type": "code",
   "execution_count": 3,
   "metadata": {},
   "outputs": [],
   "source": [
    "q = '''SELECT\n",
    "  date(_partitiontime) AS date,\n",
    "  flag,\n",
    "  integer(SUM(fishing_hours)) fishing_hours\n",
    "FROM\n",
    "  [world-fishing-827:gfw_draft_data.fishing_effort]\n",
    "GROUP BY\n",
    "  date,\n",
    "  flag\n",
    "ORDER BY\n",
    "  flag,\n",
    "  date'''\n",
    "df = pd.io.gbq.read_gbq(q, project_id='world-fishing-827', verbose=False)"
   ]
  },
  {
   "cell_type": "code",
   "execution_count": 4,
   "metadata": {},
   "outputs": [
    {
     "data": {
      "text/html": [
       "<div>\n",
       "<table border=\"1\" class=\"dataframe\">\n",
       "  <thead>\n",
       "    <tr style=\"text-align: right;\">\n",
       "      <th></th>\n",
       "      <th>date</th>\n",
       "      <th>flag</th>\n",
       "      <th>fishing_hours</th>\n",
       "    </tr>\n",
       "  </thead>\n",
       "  <tbody>\n",
       "    <tr>\n",
       "      <th>0</th>\n",
       "      <td>2015-08-17</td>\n",
       "      <td>MNG</td>\n",
       "      <td>24</td>\n",
       "    </tr>\n",
       "    <tr>\n",
       "      <th>1</th>\n",
       "      <td>2015-08-18</td>\n",
       "      <td>MNG</td>\n",
       "      <td>24</td>\n",
       "    </tr>\n",
       "    <tr>\n",
       "      <th>2</th>\n",
       "      <td>2015-08-19</td>\n",
       "      <td>MNG</td>\n",
       "      <td>23</td>\n",
       "    </tr>\n",
       "    <tr>\n",
       "      <th>3</th>\n",
       "      <td>2015-08-20</td>\n",
       "      <td>MNG</td>\n",
       "      <td>24</td>\n",
       "    </tr>\n",
       "    <tr>\n",
       "      <th>4</th>\n",
       "      <td>2015-08-21</td>\n",
       "      <td>MNG</td>\n",
       "      <td>22</td>\n",
       "    </tr>\n",
       "  </tbody>\n",
       "</table>\n",
       "</div>"
      ],
      "text/plain": [
       "         date flag  fishing_hours\n",
       "0  2015-08-17  MNG             24\n",
       "1  2015-08-18  MNG             24\n",
       "2  2015-08-19  MNG             23\n",
       "3  2015-08-20  MNG             24\n",
       "4  2015-08-21  MNG             22"
      ]
     },
     "execution_count": 4,
     "metadata": {},
     "output_type": "execute_result"
    }
   ],
   "source": [
    "df.head()"
   ]
  },
  {
   "cell_type": "code",
   "execution_count": 5,
   "metadata": {},
   "outputs": [
    {
     "data": {
      "text/plain": [
       "164185"
      ]
     },
     "execution_count": 5,
     "metadata": {},
     "output_type": "execute_result"
    }
   ],
   "source": [
    "len(df)"
   ]
  },
  {
   "cell_type": "code",
   "execution_count": 6,
   "metadata": {},
   "outputs": [],
   "source": [
    "df = df.sort_values(by=['flag', 'date']).reset_index(drop=True)\n",
    "df = df.fillna(0)"
   ]
  },
  {
   "cell_type": "code",
   "execution_count": 7,
   "metadata": {
    "scrolled": false
   },
   "outputs": [],
   "source": [
    "flag = df.flag[0]\n",
    "iso3s = []\n",
    "header = \"date,fishing\\n\"\n",
    "rows = []\n",
    "for index, row in df.iterrows():\n",
    "    fl = row.flag\n",
    "    if fl!=flag:\n",
    "        with open(\"countries/{}.csv\".format(flag), 'w') as f:\n",
    "            f.write(header)\n",
    "            f.write(\"\\n\".join(rows))\n",
    "        rows = []\n",
    "#         print flag\n",
    "        iso3s.append(flag)\n",
    "        flag = fl\n",
    "    \n",
    "    rows.append(\"{},{}\".format(row.date, row.fishing_hours))\n",
    "    \n",
    "with open(\"countries/{}.csv\".format(flag), 'w') as f:\n",
    "    f.write(header)\n",
    "    f.write(\"\\n\".join(rows))\n",
    "rows = []\n",
    "# print flag\n",
    "iso3s.append(flag)\n"
   ]
  },
  {
   "cell_type": "code",
   "execution_count": 7,
   "metadata": {},
   "outputs": [],
   "source": [
    "q = '''SELECT\n",
    "  date(_partitiontime) AS date,\n",
    "  flag,\n",
    "  integer(SUM(fishing_hours)) fishing_hours\n",
    "FROM\n",
    "  [world-fishing-827:gfw_draft_data.fishing_effort]\n",
    "  where _partitiontime >= timestamp(\"2016-01-01\")\n",
    "GROUP BY\n",
    "  date,\n",
    "  flag\n",
    "ORDER BY\n",
    "  flag,\n",
    "  date'''\n",
    "df = pd.io.gbq.read_gbq(q, project_id='world-fishing-827', verbose=False)"
   ]
  },
  {
   "cell_type": "code",
   "execution_count": 8,
   "metadata": {},
   "outputs": [],
   "source": [
    "df = df.sort_values(by=['flag', 'date']).reset_index(drop=True).fillna(0)"
   ]
  },
  {
   "cell_type": "code",
   "execution_count": 10,
   "metadata": {},
   "outputs": [],
   "source": [
    "flag = df.flag[0]\n",
    "iso3s = []\n",
    "header = \"date,fishing\\n\"\n",
    "rows = []\n",
    "for index, row in df.iterrows():\n",
    "    fl = row.flag\n",
    "    if fl!=flag:\n",
    "        with open(\"countries2016/{}.csv\".format(flag), 'w') as f:\n",
    "            f.write(header)\n",
    "            f.write(\"\\n\".join(rows))\n",
    "        rows = []\n",
    "#         print flag\n",
    "        iso3s.append(flag)\n",
    "        flag = fl\n",
    "    \n",
    "    rows.append(\"{},{}\".format(row.date, row.fishing_hours))\n",
    "    \n",
    "with open(\"countries/{}.csv\".format(flag), 'w') as f:\n",
    "    f.write(header)\n",
    "    f.write(\"\\n\".join(rows))\n",
    "rows = []\n",
    "# print flag\n",
    "iso3s.append(flag)"
   ]
  },
  {
   "cell_type": "code",
   "execution_count": 12,
   "metadata": {},
   "outputs": [],
   "source": [
    "q = '''SELECT\n",
    "  date(_partitiontime) AS date,\n",
    "  integer(SUM(fishing_hours)) fishing_hours\n",
    "FROM\n",
    "  [world-fishing-827:gfw_draft_data.fishing_effort]\n",
    "GROUP BY\n",
    "  date\n",
    "ORDER BY\n",
    "  date'''\n",
    "df = pd.io.gbq.read_gbq(q, project_id='world-fishing-827', verbose=False)"
   ]
  },
  {
   "cell_type": "code",
   "execution_count": 13,
   "metadata": {},
   "outputs": [],
   "source": [
    "df = df.sort_values(by='date').reset_index(drop=True).fillna(0)"
   ]
  },
  {
   "cell_type": "code",
   "execution_count": 14,
   "metadata": {},
   "outputs": [],
   "source": [
    "with open(\"countries/WLD.csv\".format(flag), 'w') as f:\n",
    "    f.write(header)\n",
    "    rows = []\n",
    "    for index, row in df.iterrows():\n",
    "        rows.append(\"{},{}\".format(row.date,row.fishing_hours))\n",
    "    f.write(\"\\n\".join(rows))"
   ]
  },
  {
   "cell_type": "code",
   "execution_count": null,
   "metadata": {},
   "outputs": [],
   "source": [
    "q = '''SELECT\n",
    "  date(_partitiontime) AS date,\n",
    "  integer(SUM(fishing_hours)) fishing_hours\n",
    "FROM\n",
    "  [world-fishing-827:gfw_draft_data.fishing_effort]\n",
    "GROUP BY\n",
    "  date\n",
    "ORDER BY\n",
    "  date'''\n",
    "df = pd.io.gbq.read_gbq(q, project_id='world-fishing-827', verbose=False)"
   ]
  },
  {
   "cell_type": "code",
   "execution_count": null,
   "metadata": {},
   "outputs": [],
   "source": []
  },
  {
   "cell_type": "code",
   "execution_count": null,
   "metadata": {},
   "outputs": [],
   "source": []
  },
  {
   "cell_type": "markdown",
   "metadata": {},
   "source": [
    "# Version 2 \n",
    " - put all the values in the same file\n",
    " - use local time for the days\n",
    " - include fishing vessel days"
   ]
  },
  {
   "cell_type": "code",
   "execution_count": 7,
   "metadata": {},
   "outputs": [],
   "source": [
    "q = '''SELECT\n",
    "  date,\n",
    "  flag,\n",
    "  COUNT(*) vessels_fishing,\n",
    "  SUM(fishing_hours) fishing_hours\n",
    "FROM (\n",
    "  SELECT\n",
    "    mmsi,\n",
    "    DATE(SEC_TO_TIMESTAMP(TIMESTAMP_TO_SEC(timestamp) + lon/180*12*3600)) date,\n",
    "    SUM(hours) fishing_hours,\n",
    "  FROM\n",
    "    [gfw_research.nn2]\n",
    "  WHERE\n",
    "    nnet_score2 = 1\n",
    "  GROUP BY\n",
    "    mmsi,\n",
    "    date) a\n",
    "LEFT JOIN\n",
    "  [gfw_draft_data.fishing_vessels] b\n",
    "ON\n",
    "  a.mmsi = b.mmsi\n",
    "  where flag not in (\"CUB\",\"MNG\")\n",
    "  and flag is not null\n",
    "GROUP BY\n",
    "  flag,\n",
    "  date\n",
    "ORDER BY\n",
    "  flag,'''\n",
    "df = pd.io.gbq.read_gbq(q, project_id='world-fishing-827', verbose=False).set_index(\"date\")"
   ]
  },
  {
   "cell_type": "code",
   "execution_count": 5,
   "metadata": {},
   "outputs": [
    {
     "data": {
      "text/plain": [
       "137127"
      ]
     },
     "execution_count": 5,
     "metadata": {},
     "output_type": "execute_result"
    }
   ],
   "source": [
    "len(df)"
   ]
  },
  {
   "cell_type": "code",
   "execution_count": 8,
   "metadata": {},
   "outputs": [],
   "source": [
    "df.to_csv(\"allcountries2012-2016.csv\")"
   ]
  },
  {
   "cell_type": "code",
   "execution_count": null,
   "metadata": {},
   "outputs": [],
   "source": []
  },
  {
   "cell_type": "code",
   "execution_count": 5,
   "metadata": {},
   "outputs": [],
   "source": [
    "import pycountry"
   ]
  },
  {
   "cell_type": "code",
   "execution_count": 6,
   "metadata": {},
   "outputs": [],
   "source": [
    "bad_countries = [\"NCL\", \"PYF\", \"REU\", \"SGP\", \"SHN\", \"SPM\", \"SYC\", \"TCA\", \"TON\", \"TWN\", \"UNK\", \"ATF\", \"BES\", \"BHR\", \"COK\", \"CUW\", \"CYM\", \"DMA\", \"FLK\", \"FRO\", \"FSM\", \"GLP\", \"GRL\", \"GUF\", \"HKG\", \"KIR\", \"KNA\", \"MAC\", \"MDV\", \"MHL\", \"MLT\", \"MNE\", \"MTQ\"]"
   ]
  },
  {
   "cell_type": "code",
   "execution_count": 10,
   "metadata": {},
   "outputs": [
    {
     "name": "stdout",
     "output_type": "stream",
     "text": [
      "New Caledonia\n",
      "French Polynesia\n",
      "Réunion\n",
      "Singapore\n",
      "Saint Helena, Ascension and Tristan da Cunha\n",
      "Saint Pierre and Miquelon\n",
      "Seychelles\n",
      "Turks and Caicos Islands\n",
      "Tonga\n",
      "Taiwan, Province of China\n",
      "UNK\n",
      "French Southern Territories\n",
      "Bonaire, Sint Eustatius and Saba\n",
      "Bahrain\n",
      "Cook Islands\n",
      "Curaçao\n",
      "Cayman Islands\n",
      "Dominica\n",
      "Falkland Islands (Malvinas)\n",
      "Faroe Islands\n",
      "Micronesia, Federated States of\n",
      "Guadeloupe\n",
      "Greenland\n",
      "French Guiana\n",
      "Hong Kong\n",
      "Kiribati\n",
      "Saint Kitts and Nevis\n",
      "Macao\n",
      "Maldives\n",
      "Marshall Islands\n",
      "Malta\n",
      "Montenegro\n",
      "Martinique\n"
     ]
    }
   ],
   "source": [
    "for c in bad_countries:\n",
    "    try:\n",
    "        print pycountry.countries.get(alpha_3=c).name\n",
    "    except:\n",
    "        print c\n",
    "\n",
    "    "
   ]
  },
  {
   "cell_type": "code",
   "execution_count": 26,
   "metadata": {},
   "outputs": [],
   "source": [
    "q = '''select flag, sum(fishing_hours)/365 hours_per_day from \n",
    "[gfw_draft_data.fishing_effort]\n",
    "where flag in ({})\n",
    "and flag != \"UNK\"\n",
    "group by flag order by 2 desc'''.format('\"'+'\",\"'.join(bad_countries)+'\"')"
   ]
  },
  {
   "cell_type": "code",
   "execution_count": 27,
   "metadata": {},
   "outputs": [],
   "source": [
    "df = pd.io.gbq.read_gbq(q, project_id='world-fishing-827',verbose=False)"
   ]
  },
  {
   "cell_type": "code",
   "execution_count": 32,
   "metadata": {},
   "outputs": [],
   "source": [
    "df['country'] = df.flag.map(lambda x: pycountry.countries.get(alpha_3=x).name)"
   ]
  },
  {
   "cell_type": "code",
   "execution_count": 33,
   "metadata": {},
   "outputs": [
    {
     "data": {
      "text/html": [
       "<div>\n",
       "<table border=\"1\" class=\"dataframe\">\n",
       "  <thead>\n",
       "    <tr style=\"text-align: right;\">\n",
       "      <th></th>\n",
       "      <th>flag</th>\n",
       "      <th>hours_per_day</th>\n",
       "      <th>country</th>\n",
       "    </tr>\n",
       "  </thead>\n",
       "  <tbody>\n",
       "    <tr>\n",
       "      <th>0</th>\n",
       "      <td>TWN</td>\n",
       "      <td>14622.066134</td>\n",
       "      <td>Taiwan, Province of China</td>\n",
       "    </tr>\n",
       "    <tr>\n",
       "      <th>1</th>\n",
       "      <td>FRO</td>\n",
       "      <td>3049.760446</td>\n",
       "      <td>Faroe Islands</td>\n",
       "    </tr>\n",
       "    <tr>\n",
       "      <th>2</th>\n",
       "      <td>GRL</td>\n",
       "      <td>1448.773280</td>\n",
       "      <td>Greenland</td>\n",
       "    </tr>\n",
       "    <tr>\n",
       "      <th>3</th>\n",
       "      <td>FLK</td>\n",
       "      <td>688.486137</td>\n",
       "      <td>Falkland Islands (Malvinas)</td>\n",
       "    </tr>\n",
       "    <tr>\n",
       "      <th>4</th>\n",
       "      <td>NCL</td>\n",
       "      <td>516.085764</td>\n",
       "      <td>New Caledonia</td>\n",
       "    </tr>\n",
       "    <tr>\n",
       "      <th>5</th>\n",
       "      <td>GUF</td>\n",
       "      <td>471.527336</td>\n",
       "      <td>French Guiana</td>\n",
       "    </tr>\n",
       "    <tr>\n",
       "      <th>6</th>\n",
       "      <td>REU</td>\n",
       "      <td>417.030173</td>\n",
       "      <td>Réunion</td>\n",
       "    </tr>\n",
       "    <tr>\n",
       "      <th>7</th>\n",
       "      <td>SYC</td>\n",
       "      <td>374.402710</td>\n",
       "      <td>Seychelles</td>\n",
       "    </tr>\n",
       "    <tr>\n",
       "      <th>8</th>\n",
       "      <td>FSM</td>\n",
       "      <td>310.302245</td>\n",
       "      <td>Micronesia, Federated States of</td>\n",
       "    </tr>\n",
       "    <tr>\n",
       "      <th>9</th>\n",
       "      <td>MLT</td>\n",
       "      <td>259.593892</td>\n",
       "      <td>Malta</td>\n",
       "    </tr>\n",
       "    <tr>\n",
       "      <th>10</th>\n",
       "      <td>KIR</td>\n",
       "      <td>228.311487</td>\n",
       "      <td>Kiribati</td>\n",
       "    </tr>\n",
       "    <tr>\n",
       "      <th>11</th>\n",
       "      <td>MHL</td>\n",
       "      <td>183.324232</td>\n",
       "      <td>Marshall Islands</td>\n",
       "    </tr>\n",
       "    <tr>\n",
       "      <th>12</th>\n",
       "      <td>KNA</td>\n",
       "      <td>56.421562</td>\n",
       "      <td>Saint Kitts and Nevis</td>\n",
       "    </tr>\n",
       "    <tr>\n",
       "      <th>13</th>\n",
       "      <td>MDV</td>\n",
       "      <td>55.283183</td>\n",
       "      <td>Maldives</td>\n",
       "    </tr>\n",
       "    <tr>\n",
       "      <th>14</th>\n",
       "      <td>COK</td>\n",
       "      <td>45.936361</td>\n",
       "      <td>Cook Islands</td>\n",
       "    </tr>\n",
       "    <tr>\n",
       "      <th>15</th>\n",
       "      <td>MAC</td>\n",
       "      <td>45.733469</td>\n",
       "      <td>Macao</td>\n",
       "    </tr>\n",
       "    <tr>\n",
       "      <th>16</th>\n",
       "      <td>SPM</td>\n",
       "      <td>45.558308</td>\n",
       "      <td>Saint Pierre and Miquelon</td>\n",
       "    </tr>\n",
       "    <tr>\n",
       "      <th>17</th>\n",
       "      <td>HKG</td>\n",
       "      <td>34.747220</td>\n",
       "      <td>Hong Kong</td>\n",
       "    </tr>\n",
       "    <tr>\n",
       "      <th>18</th>\n",
       "      <td>SHN</td>\n",
       "      <td>34.300349</td>\n",
       "      <td>Saint Helena, Ascension and Tristan da Cunha</td>\n",
       "    </tr>\n",
       "    <tr>\n",
       "      <th>19</th>\n",
       "      <td>BHR</td>\n",
       "      <td>27.220801</td>\n",
       "      <td>Bahrain</td>\n",
       "    </tr>\n",
       "    <tr>\n",
       "      <th>20</th>\n",
       "      <td>PYF</td>\n",
       "      <td>25.332821</td>\n",
       "      <td>French Polynesia</td>\n",
       "    </tr>\n",
       "    <tr>\n",
       "      <th>21</th>\n",
       "      <td>DMA</td>\n",
       "      <td>17.441883</td>\n",
       "      <td>Dominica</td>\n",
       "    </tr>\n",
       "    <tr>\n",
       "      <th>22</th>\n",
       "      <td>CUW</td>\n",
       "      <td>8.887337</td>\n",
       "      <td>Curaçao</td>\n",
       "    </tr>\n",
       "    <tr>\n",
       "      <th>23</th>\n",
       "      <td>ATF</td>\n",
       "      <td>8.276794</td>\n",
       "      <td>French Southern Territories</td>\n",
       "    </tr>\n",
       "    <tr>\n",
       "      <th>24</th>\n",
       "      <td>BES</td>\n",
       "      <td>6.750849</td>\n",
       "      <td>Bonaire, Sint Eustatius and Saba</td>\n",
       "    </tr>\n",
       "    <tr>\n",
       "      <th>25</th>\n",
       "      <td>MTQ</td>\n",
       "      <td>3.377233</td>\n",
       "      <td>Martinique</td>\n",
       "    </tr>\n",
       "    <tr>\n",
       "      <th>26</th>\n",
       "      <td>MNE</td>\n",
       "      <td>1.270050</td>\n",
       "      <td>Montenegro</td>\n",
       "    </tr>\n",
       "    <tr>\n",
       "      <th>27</th>\n",
       "      <td>TCA</td>\n",
       "      <td>0.812121</td>\n",
       "      <td>Turks and Caicos Islands</td>\n",
       "    </tr>\n",
       "    <tr>\n",
       "      <th>28</th>\n",
       "      <td>TON</td>\n",
       "      <td>0.438027</td>\n",
       "      <td>Tonga</td>\n",
       "    </tr>\n",
       "    <tr>\n",
       "      <th>29</th>\n",
       "      <td>SGP</td>\n",
       "      <td>0.123914</td>\n",
       "      <td>Singapore</td>\n",
       "    </tr>\n",
       "    <tr>\n",
       "      <th>30</th>\n",
       "      <td>CYM</td>\n",
       "      <td>0.009702</td>\n",
       "      <td>Cayman Islands</td>\n",
       "    </tr>\n",
       "  </tbody>\n",
       "</table>\n",
       "</div>"
      ],
      "text/plain": [
       "   flag  hours_per_day                                       country\n",
       "0   TWN   14622.066134                     Taiwan, Province of China\n",
       "1   FRO    3049.760446                                 Faroe Islands\n",
       "2   GRL    1448.773280                                     Greenland\n",
       "3   FLK     688.486137                   Falkland Islands (Malvinas)\n",
       "4   NCL     516.085764                                 New Caledonia\n",
       "5   GUF     471.527336                                 French Guiana\n",
       "6   REU     417.030173                                       Réunion\n",
       "7   SYC     374.402710                                    Seychelles\n",
       "8   FSM     310.302245               Micronesia, Federated States of\n",
       "9   MLT     259.593892                                         Malta\n",
       "10  KIR     228.311487                                      Kiribati\n",
       "11  MHL     183.324232                              Marshall Islands\n",
       "12  KNA      56.421562                         Saint Kitts and Nevis\n",
       "13  MDV      55.283183                                      Maldives\n",
       "14  COK      45.936361                                  Cook Islands\n",
       "15  MAC      45.733469                                         Macao\n",
       "16  SPM      45.558308                     Saint Pierre and Miquelon\n",
       "17  HKG      34.747220                                     Hong Kong\n",
       "18  SHN      34.300349  Saint Helena, Ascension and Tristan da Cunha\n",
       "19  BHR      27.220801                                       Bahrain\n",
       "20  PYF      25.332821                              French Polynesia\n",
       "21  DMA      17.441883                                      Dominica\n",
       "22  CUW       8.887337                                       Curaçao\n",
       "23  ATF       8.276794                   French Southern Territories\n",
       "24  BES       6.750849              Bonaire, Sint Eustatius and Saba\n",
       "25  MTQ       3.377233                                    Martinique\n",
       "26  MNE       1.270050                                    Montenegro\n",
       "27  TCA       0.812121                      Turks and Caicos Islands\n",
       "28  TON       0.438027                                         Tonga\n",
       "29  SGP       0.123914                                     Singapore\n",
       "30  CYM       0.009702                                Cayman Islands"
      ]
     },
     "execution_count": 33,
     "metadata": {},
     "output_type": "execute_result"
    }
   ],
   "source": [
    "df"
   ]
  },
  {
   "cell_type": "code",
   "execution_count": 38,
   "metadata": {},
   "outputs": [
    {
     "data": {
      "text/plain": [
       "[u'KNA',\n",
       " u'MDV',\n",
       " u'COK',\n",
       " u'MAC',\n",
       " u'SPM',\n",
       " u'HKG',\n",
       " u'SHN',\n",
       " u'BHR',\n",
       " u'PYF',\n",
       " u'DMA',\n",
       " u'CUW',\n",
       " u'ATF',\n",
       " u'BES',\n",
       " u'MTQ',\n",
       " u'MNE',\n",
       " u'TCA',\n",
       " u'TON',\n",
       " u'SGP',\n",
       " u'CYM',\n",
       " u'UNK']"
      ]
     },
     "execution_count": 38,
     "metadata": {},
     "output_type": "execute_result"
    }
   ],
   "source": [
    "to_remove = list(df.iloc[12:].flag)+[u\"UNK\"]\n",
    "to_remove"
   ]
  },
  {
   "cell_type": "code",
   "execution_count": 39,
   "metadata": {},
   "outputs": [
    {
     "data": {
      "text/html": [
       "<div>\n",
       "<table border=\"1\" class=\"dataframe\">\n",
       "  <thead>\n",
       "    <tr style=\"text-align: right;\">\n",
       "      <th></th>\n",
       "      <th>flag</th>\n",
       "      <th>country</th>\n",
       "    </tr>\n",
       "  </thead>\n",
       "  <tbody>\n",
       "    <tr>\n",
       "      <th>0</th>\n",
       "      <td>TWN</td>\n",
       "      <td>Taiwan, Province of China</td>\n",
       "    </tr>\n",
       "    <tr>\n",
       "      <th>1</th>\n",
       "      <td>FRO</td>\n",
       "      <td>Faroe Islands</td>\n",
       "    </tr>\n",
       "    <tr>\n",
       "      <th>2</th>\n",
       "      <td>GRL</td>\n",
       "      <td>Greenland</td>\n",
       "    </tr>\n",
       "    <tr>\n",
       "      <th>3</th>\n",
       "      <td>FLK</td>\n",
       "      <td>Falkland Islands (Malvinas)</td>\n",
       "    </tr>\n",
       "    <tr>\n",
       "      <th>4</th>\n",
       "      <td>NCL</td>\n",
       "      <td>New Caledonia</td>\n",
       "    </tr>\n",
       "    <tr>\n",
       "      <th>5</th>\n",
       "      <td>GUF</td>\n",
       "      <td>French Guiana</td>\n",
       "    </tr>\n",
       "    <tr>\n",
       "      <th>6</th>\n",
       "      <td>REU</td>\n",
       "      <td>Réunion</td>\n",
       "    </tr>\n",
       "    <tr>\n",
       "      <th>7</th>\n",
       "      <td>SYC</td>\n",
       "      <td>Seychelles</td>\n",
       "    </tr>\n",
       "    <tr>\n",
       "      <th>8</th>\n",
       "      <td>FSM</td>\n",
       "      <td>Micronesia, Federated States of</td>\n",
       "    </tr>\n",
       "    <tr>\n",
       "      <th>9</th>\n",
       "      <td>MLT</td>\n",
       "      <td>Malta</td>\n",
       "    </tr>\n",
       "    <tr>\n",
       "      <th>10</th>\n",
       "      <td>KIR</td>\n",
       "      <td>Kiribati</td>\n",
       "    </tr>\n",
       "    <tr>\n",
       "      <th>11</th>\n",
       "      <td>MHL</td>\n",
       "      <td>Marshall Islands</td>\n",
       "    </tr>\n",
       "  </tbody>\n",
       "</table>\n",
       "</div>"
      ],
      "text/plain": [
       "   flag                          country\n",
       "0   TWN        Taiwan, Province of China\n",
       "1   FRO                    Faroe Islands\n",
       "2   GRL                        Greenland\n",
       "3   FLK      Falkland Islands (Malvinas)\n",
       "4   NCL                    New Caledonia\n",
       "5   GUF                    French Guiana\n",
       "6   REU                          Réunion\n",
       "7   SYC                       Seychelles\n",
       "8   FSM  Micronesia, Federated States of\n",
       "9   MLT                            Malta\n",
       "10  KIR                         Kiribati\n",
       "11  MHL                 Marshall Islands"
      ]
     },
     "execution_count": 39,
     "metadata": {},
     "output_type": "execute_result"
    }
   ],
   "source": [
    "# flag states we will keep\n",
    "df[['flag','country']].iloc[:12]"
   ]
  },
  {
   "cell_type": "code",
   "execution_count": 1,
   "metadata": {},
   "outputs": [],
   "source": [
    "# Append All vessels and Chinese Vessels to all allcountries2012-2016.csv\n",
    "\n",
    "import pandas as pd"
   ]
  },
  {
   "cell_type": "code",
   "execution_count": 3,
   "metadata": {},
   "outputs": [],
   "source": [
    "q = '''SELECT\n",
    "  date,\n",
    "  \"WLD\" as flag,\n",
    "  COUNT(*) vessels_fishing,\n",
    "  SUM(fishing_hours) fishing_hours\n",
    "FROM (\n",
    "  SELECT\n",
    "    mmsi,\n",
    "    DATE(SEC_TO_TIMESTAMP(TIMESTAMP_TO_SEC(timestamp) + lon/180*12*3600)) date,\n",
    "    SUM(hours) fishing_hours,\n",
    "  FROM\n",
    "    [gfw_research.nn2]\n",
    "  WHERE\n",
    "    nnet_score2 = 1\n",
    "  GROUP BY\n",
    "    mmsi,\n",
    "    date) a\n",
    "LEFT JOIN\n",
    "  [gfw_draft_data.fishing_vessels] b\n",
    "ON\n",
    "  a.mmsi = b.mmsi\n",
    "GROUP BY\n",
    "  flag,\n",
    "  date\n",
    "ORDER BY\n",
    "  date'''\n",
    "df_WLD = pd.io.gbq.read_gbq(q, project_id='world-fishing-827', verbose=False).set_index(\"date\")"
   ]
  },
  {
   "cell_type": "code",
   "execution_count": 4,
   "metadata": {},
   "outputs": [],
   "source": [
    "q = '''SELECT\n",
    "  date,\n",
    "  \"NCH\" as flag,\n",
    "  COUNT(*) vessels_fishing,\n",
    "  SUM(fishing_hours) fishing_hours\n",
    "FROM (\n",
    "  SELECT\n",
    "    mmsi,\n",
    "    DATE(SEC_TO_TIMESTAMP(TIMESTAMP_TO_SEC(timestamp) + lon/180*12*3600)) date,\n",
    "    SUM(hours) fishing_hours,\n",
    "  FROM\n",
    "    [gfw_research.nn2]\n",
    "  WHERE\n",
    "    nnet_score2 = 1\n",
    "  GROUP BY\n",
    "    mmsi,\n",
    "    date) a\n",
    "LEFT JOIN\n",
    "  [gfw_draft_data.fishing_vessels] b\n",
    "ON\n",
    "  a.mmsi = b.mmsi\n",
    "Where\n",
    "flag != \"CHN\"\n",
    "GROUP BY\n",
    "  flag,\n",
    "  date\n",
    "ORDER BY\n",
    "  date'''\n",
    "df_NCH = pd.io.gbq.read_gbq(q, project_id='world-fishing-827', verbose=False).set_index(\"date\")"
   ]
  },
  {
   "cell_type": "code",
   "execution_count": 54,
   "metadata": {},
   "outputs": [],
   "source": [
    "df_all = pd.DataFrame.from_csv(\"allcountries2012-2016.csv\")"
   ]
  },
  {
   "cell_type": "code",
   "execution_count": 58,
   "metadata": {},
   "outputs": [
    {
     "data": {
      "text/html": [
       "<div>\n",
       "<table border=\"1\" class=\"dataframe\">\n",
       "  <thead>\n",
       "    <tr style=\"text-align: right;\">\n",
       "      <th></th>\n",
       "      <th>flag</th>\n",
       "      <th>vessels_fishing</th>\n",
       "      <th>fishing_hours</th>\n",
       "    </tr>\n",
       "    <tr>\n",
       "      <th>date</th>\n",
       "      <th></th>\n",
       "      <th></th>\n",
       "      <th></th>\n",
       "    </tr>\n",
       "  </thead>\n",
       "  <tbody>\n",
       "    <tr>\n",
       "      <th>2011-12-31</th>\n",
       "      <td>NCH</td>\n",
       "      <td>10</td>\n",
       "      <td>78.800139</td>\n",
       "    </tr>\n",
       "    <tr>\n",
       "      <th>2012-01-01</th>\n",
       "      <td>NCH</td>\n",
       "      <td>39</td>\n",
       "      <td>416.334583</td>\n",
       "    </tr>\n",
       "    <tr>\n",
       "      <th>2012-01-02</th>\n",
       "      <td>NCH</td>\n",
       "      <td>67</td>\n",
       "      <td>672.477222</td>\n",
       "    </tr>\n",
       "    <tr>\n",
       "      <th>2012-01-03</th>\n",
       "      <td>NCH</td>\n",
       "      <td>102</td>\n",
       "      <td>1316.876250</td>\n",
       "    </tr>\n",
       "    <tr>\n",
       "      <th>2012-01-04</th>\n",
       "      <td>NCH</td>\n",
       "      <td>111</td>\n",
       "      <td>1581.026389</td>\n",
       "    </tr>\n",
       "  </tbody>\n",
       "</table>\n",
       "</div>"
      ],
      "text/plain": [
       "           flag  vessels_fishing  fishing_hours\n",
       "date                                           \n",
       "2011-12-31  NCH               10      78.800139\n",
       "2012-01-01  NCH               39     416.334583\n",
       "2012-01-02  NCH               67     672.477222\n",
       "2012-01-03  NCH              102    1316.876250\n",
       "2012-01-04  NCH              111    1581.026389"
      ]
     },
     "execution_count": 58,
     "metadata": {},
     "output_type": "execute_result"
    }
   ],
   "source": []
  },
  {
   "cell_type": "code",
   "execution_count": 59,
   "metadata": {},
   "outputs": [],
   "source": [
    "df = pd.concat([df_all, df_WLD, df_NCH])"
   ]
  },
  {
   "cell_type": "code",
   "execution_count": 60,
   "metadata": {},
   "outputs": [],
   "source": [
    "df = df[~df['flag'].isin(to_remove)]\n"
   ]
  },
  {
   "cell_type": "code",
   "execution_count": 62,
   "metadata": {},
   "outputs": [
    {
     "data": {
      "text/html": [
       "<div>\n",
       "<table border=\"1\" class=\"dataframe\">\n",
       "  <thead>\n",
       "    <tr style=\"text-align: right;\">\n",
       "      <th></th>\n",
       "      <th>flag</th>\n",
       "      <th>vessels_fishing</th>\n",
       "      <th>fishing_hours</th>\n",
       "    </tr>\n",
       "    <tr>\n",
       "      <th>date</th>\n",
       "      <th></th>\n",
       "      <th></th>\n",
       "      <th></th>\n",
       "    </tr>\n",
       "  </thead>\n",
       "  <tbody>\n",
       "    <tr>\n",
       "      <th>2015-03-30 00:00:00</th>\n",
       "      <td>MYS</td>\n",
       "      <td>6</td>\n",
       "      <td>34.229167</td>\n",
       "    </tr>\n",
       "    <tr>\n",
       "      <th>2014-01-13 00:00:00</th>\n",
       "      <td>MYS</td>\n",
       "      <td>2</td>\n",
       "      <td>12.721111</td>\n",
       "    </tr>\n",
       "    <tr>\n",
       "      <th>2016-04-21 00:00:00</th>\n",
       "      <td>MYS</td>\n",
       "      <td>14</td>\n",
       "      <td>209.207639</td>\n",
       "    </tr>\n",
       "    <tr>\n",
       "      <th>2014-08-30 00:00:00</th>\n",
       "      <td>MYS</td>\n",
       "      <td>1</td>\n",
       "      <td>2.472917</td>\n",
       "    </tr>\n",
       "    <tr>\n",
       "      <th>2014-05-03 00:00:00</th>\n",
       "      <td>MYS</td>\n",
       "      <td>2</td>\n",
       "      <td>68.490417</td>\n",
       "    </tr>\n",
       "  </tbody>\n",
       "</table>\n",
       "</div>"
      ],
      "text/plain": [
       "                    flag  vessels_fishing  fishing_hours\n",
       "date                                                    \n",
       "2015-03-30 00:00:00  MYS                6      34.229167\n",
       "2014-01-13 00:00:00  MYS                2      12.721111\n",
       "2016-04-21 00:00:00  MYS               14     209.207639\n",
       "2014-08-30 00:00:00  MYS                1       2.472917\n",
       "2014-05-03 00:00:00  MYS                2      68.490417"
      ]
     },
     "execution_count": 62,
     "metadata": {},
     "output_type": "execute_result"
    }
   ],
   "source": [
    "df.head()"
   ]
  },
  {
   "cell_type": "code",
   "execution_count": 70,
   "metadata": {},
   "outputs": [],
   "source": [
    "from datetime import datetime\n",
    "df =df.drop(\"2011-12-31\")\n",
    "df = df.drop(\"2017-01-01\")\n",
    "df = df.drop(datetime.strptime(\"2017-01-01\",\"%Y-%m-%d\"))\n",
    "df = df.drop(datetime.strptime(\"2011-12-31\",\"%Y-%m-%d\"))"
   ]
  },
  {
   "cell_type": "code",
   "execution_count": 77,
   "metadata": {},
   "outputs": [],
   "source": [
    "def stringify(d):\n",
    "    try:\n",
    "        return str(d.date())\n",
    "    except:\n",
    "        return d\n",
    "\n",
    "df.index = df.index.map(stringify)"
   ]
  },
  {
   "cell_type": "code",
   "execution_count": 84,
   "metadata": {},
   "outputs": [
    {
     "name": "stderr",
     "output_type": "stream",
     "text": [
      "/usr/local/lib/python2.7/site-packages/ipykernel_launcher.py:2: FutureWarning: sort(columns=....) is deprecated, use sort_values(by=.....)\n",
      "  \n"
     ]
    }
   ],
   "source": [
    "df['colFromIndex'] = df.index\n",
    "df = df.sort(['flag', 'colFromIndex'])\n",
    "df[['flag','vessels_fishing','fishing_hours']].to_csv('allcountries2012-2016.csv')"
   ]
  },
  {
   "cell_type": "code",
   "execution_count": null,
   "metadata": {},
   "outputs": [],
   "source": []
  }
 ],
 "metadata": {
  "kernelspec": {
   "display_name": "Python 2",
   "language": "python",
   "name": "python2"
  },
  "language_info": {
   "codemirror_mode": {
    "name": "ipython",
    "version": 2
   },
   "file_extension": ".py",
   "mimetype": "text/x-python",
   "name": "python",
   "nbconvert_exporter": "python",
   "pygments_lexer": "ipython2",
   "version": "2.7.14"
  }
 },
 "nbformat": 4,
 "nbformat_minor": 2
}
